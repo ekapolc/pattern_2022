{
  "nbformat": 4,
  "nbformat_minor": 0,
  "metadata": {
    "colab": {
      "name": "numpy_tutorial.ipynb",
      "version": "0.3.2",
      "provenance": [],
      "include_colab_link": true
    },
    "kernelspec": {
      "display_name": "Python 2",
      "language": "python",
      "name": "python2"
    }
  },
  "cells": [
    {
      "cell_type": "markdown",
      "metadata": {
        "id": "view-in-github",
        "colab_type": "text"
      },
      "source": [
        "<a href=\"https://colab.research.google.com/github/ekapolc/pattern_2019/blob/master/HW/HW1/numpy_tutorial.ipynb\" target=\"_parent\"><img src=\"https://colab.research.google.com/assets/colab-badge.svg\" alt=\"Open In Colab\"/></a>"
      ]
    },
    {
      "cell_type": "markdown",
      "metadata": {
        "id": "XLWfQXrTtfsU",
        "colab_type": "text"
      },
      "source": [
        "# Python Numpy Tutorial #\n",
        "\n",
        "Parts of this tutorial are shamelessly copied from this [Stanford's cs231n tutorial](http://cs231n.github.io/python-numpy-tutorial/).\n",
        "\n",
        "In this tutorial, we assume you have some experience with Python. If that is not the case for you, the link above should give you necessary knowledge in Python for this class."
      ]
    },
    {
      "cell_type": "markdown",
      "metadata": {
        "id": "w8vw1OlgtfsW",
        "colab_type": "text"
      },
      "source": [
        "## Numpy ##\n",
        "Numpy is the core library for scientific computing in Python. It provides a high-performance multidimensional array object, and tools for working with these arrays. \n",
        "\n",
        "This notebook will guide you through some basic operation you need to know when working in numpy."
      ]
    },
    {
      "cell_type": "code",
      "metadata": {
        "id": "qD0S2sLftfsY",
        "colab_type": "code",
        "colab": {}
      },
      "source": [
        "import numpy as np\n",
        "a = 1"
      ],
      "execution_count": 0,
      "outputs": []
    },
    {
      "cell_type": "markdown",
      "metadata": {
        "id": "hi7kypDWtfse",
        "colab_type": "text"
      },
      "source": [
        "If you cannot import numpy in the cell above, you may need to install it with 'pip install numpy'.\n",
        "\n",
        "If there is an error about python version and numpy version mismatching, it is likely due to your machine has multiple version of python installed. You may need to consider installing python vertual environment. Read about python vertualenv [here](http://docs.python-guide.org/en/latest/dev/virtualenvs/)."
      ]
    },
    {
      "cell_type": "markdown",
      "metadata": {
        "id": "Ykr0l_b8tfsf",
        "colab_type": "text"
      },
      "source": [
        "### Arrays ###\n",
        "\n",
        "A numpy array is a grid of values, all of the same type, and is indexed by a tuple of nonnegative integers. The number of dimensions is the rank of the array; the shape of an array is a tuple of integers giving the size of the array along each dimension.\n",
        "\n",
        "In most cases, you will use one of the commands listed below to initialize numpy array."
      ]
    },
    {
      "cell_type": "code",
      "metadata": {
        "id": "fTx_rzw3tfsg",
        "colab_type": "code",
        "outputId": "906a7217-4865-4a39-aa2d-510373f1d403",
        "colab": {}
      },
      "source": [
        "a = np.zeros((2,3))   # Create an array of all zeros\n",
        "print(a)              # Prints \"[[ 0.  0.]\n",
        "                      #          [ 0.  0.]]\""
      ],
      "execution_count": 0,
      "outputs": [
        {
          "output_type": "stream",
          "text": [
            "[[ 0.  0.  0.]\n",
            " [ 0.  0.  0.]]\n"
          ],
          "name": "stdout"
        }
      ]
    },
    {
      "cell_type": "code",
      "metadata": {
        "id": "RyHjR8Tbtfsp",
        "colab_type": "code",
        "outputId": "5f0748d5-53e7-406a-f992-2659a470ab91",
        "colab": {}
      },
      "source": [
        "b = np.ones((1,2))    # Create an array of all ones\n",
        "print(b)              # Prints \"[[ 1.  1.]]\""
      ],
      "execution_count": 0,
      "outputs": [
        {
          "output_type": "stream",
          "text": [
            "[[ 1.  1.]]\n"
          ],
          "name": "stdout"
        }
      ]
    },
    {
      "cell_type": "code",
      "metadata": {
        "id": "nRIcXbontfsu",
        "colab_type": "code",
        "outputId": "84516e96-287c-4f54-842f-1e690b5941ee",
        "colab": {}
      },
      "source": [
        "c = np.full((2,2), 7)  # Create a constant array\n",
        "print(c)               # Prints \"[[ 7.  7.]\n",
        "                       #          [ 7.  7.]]\""
      ],
      "execution_count": 0,
      "outputs": [
        {
          "output_type": "stream",
          "text": [
            "[[7 7]\n",
            " [7 7]]\n"
          ],
          "name": "stdout"
        }
      ]
    },
    {
      "cell_type": "code",
      "metadata": {
        "id": "xeYp9SPwtfs0",
        "colab_type": "code",
        "outputId": "af9ada8a-20a8-4f46-df60-39c6d5f9ee06",
        "colab": {}
      },
      "source": [
        "d = np.eye(3)         # Create a 3x3 identity matrix\n",
        "print(d)              "
      ],
      "execution_count": 0,
      "outputs": [
        {
          "output_type": "stream",
          "text": [
            "[[ 1.  0.  0.]\n",
            " [ 0.  1.  0.]\n",
            " [ 0.  0.  1.]]\n"
          ],
          "name": "stdout"
        }
      ]
    },
    {
      "cell_type": "code",
      "metadata": {
        "id": "XJdLgZF6tfs5",
        "colab_type": "code",
        "outputId": "af159bef-dd64-413f-f116-fb0493f5973e",
        "colab": {}
      },
      "source": [
        "e = np.random.random((2,2))  # Create an array filled with random values\n",
        "print(e)"
      ],
      "execution_count": 0,
      "outputs": [
        {
          "output_type": "stream",
          "text": [
            "[[ 0.33484036  0.70903754]\n",
            " [ 0.58511327  0.06884178]]\n"
          ],
          "name": "stdout"
        }
      ]
    },
    {
      "cell_type": "code",
      "metadata": {
        "id": "UCH_mfU7tfs-",
        "colab_type": "code",
        "outputId": "e44a29d1-16c9-470f-af10-04a5392c169e",
        "colab": {}
      },
      "source": [
        "# Create a new array with specific values\n",
        "f = np.array([[1,2,3], [4,5,6], [7,8,9], [10, 11, 12]])\n",
        "print(f)"
      ],
      "execution_count": 0,
      "outputs": [
        {
          "output_type": "stream",
          "text": [
            "[[ 1  2  3]\n",
            " [ 4  5  6]\n",
            " [ 7  8  9]\n",
            " [10 11 12]]\n"
          ],
          "name": "stdout"
        }
      ]
    },
    {
      "cell_type": "markdown",
      "metadata": {
        "id": "wjQOEBwZtftD",
        "colab_type": "text"
      },
      "source": [
        "### Array operation ###\n",
        "\n",
        "Basic mathematical functions operate elementwise on arrays."
      ]
    },
    {
      "cell_type": "code",
      "metadata": {
        "id": "uqMbxXV6tftE",
        "colab_type": "code",
        "outputId": "8fb75a94-6099-45e5-e9ee-5607d67578d4",
        "colab": {}
      },
      "source": [
        "x = np.array([[1,2],[3,4]], dtype=np.float64)\n",
        "y = np.array([[5,6],[7,8]], dtype=np.float64)\n",
        "print(x)\n",
        "print(y)"
      ],
      "execution_count": 0,
      "outputs": [
        {
          "output_type": "stream",
          "text": [
            "[[ 1.  2.]\n",
            " [ 3.  4.]]\n",
            "[[ 5.  6.]\n",
            " [ 7.  8.]]\n"
          ],
          "name": "stdout"
        }
      ]
    },
    {
      "cell_type": "code",
      "metadata": {
        "id": "xrzrM-JXtftK",
        "colab_type": "code",
        "outputId": "330950ae-7334-4db4-a57c-48fb46713530",
        "colab": {}
      },
      "source": [
        "# Elementwise sum; both produce the array\n",
        "print(x + y)\n",
        "print(np.add(x, y))"
      ],
      "execution_count": 0,
      "outputs": [
        {
          "output_type": "stream",
          "text": [
            "[[  6.   8.]\n",
            " [ 10.  12.]]\n",
            "[[  6.   8.]\n",
            " [ 10.  12.]]\n"
          ],
          "name": "stdout"
        }
      ]
    },
    {
      "cell_type": "code",
      "metadata": {
        "id": "Kk9GGWfCtftQ",
        "colab_type": "code",
        "outputId": "d50c9af5-9d13-4674-b91f-97dd8360fac8",
        "colab": {}
      },
      "source": [
        "# Elementwise difference; both produce the array\n",
        "print(x - y)\n",
        "print(np.subtract(x, y))"
      ],
      "execution_count": 0,
      "outputs": [
        {
          "output_type": "stream",
          "text": [
            "[[-4. -4.]\n",
            " [-4. -4.]]\n",
            "[[-4. -4.]\n",
            " [-4. -4.]]\n"
          ],
          "name": "stdout"
        }
      ]
    },
    {
      "cell_type": "code",
      "metadata": {
        "id": "u6FbypuCtftU",
        "colab_type": "code",
        "outputId": "6f18c4f7-7a2b-44d4-9856-7104cbfdbe18",
        "colab": {}
      },
      "source": [
        "# Elementwise product; both produce the array\n",
        "print(x * y)\n",
        "print(np.multiply(x, y))"
      ],
      "execution_count": 0,
      "outputs": [
        {
          "output_type": "stream",
          "text": [
            "[[  5.  12.]\n",
            " [ 21.  32.]]\n",
            "[[  5.  12.]\n",
            " [ 21.  32.]]\n"
          ],
          "name": "stdout"
        }
      ]
    },
    {
      "cell_type": "code",
      "metadata": {
        "id": "XAJ4fJmGtftZ",
        "colab_type": "code",
        "outputId": "839a9938-d1da-42ae-93bf-e5901bdb8991",
        "colab": {}
      },
      "source": [
        "# Elementwise division; both produce the array\n",
        "print(x / y)\n",
        "print(np.divide(x, y))"
      ],
      "execution_count": 0,
      "outputs": [
        {
          "output_type": "stream",
          "text": [
            "[[ 0.2         0.33333333]\n",
            " [ 0.42857143  0.5       ]]\n",
            "[[ 0.2         0.33333333]\n",
            " [ 0.42857143  0.5       ]]\n"
          ],
          "name": "stdout"
        }
      ]
    },
    {
      "cell_type": "code",
      "metadata": {
        "id": "9Y_OT1cetftf",
        "colab_type": "code",
        "outputId": "c89ccc11-b571-4ea4-da02-83007e8b53bc",
        "colab": {}
      },
      "source": [
        "# Elementwise square root\n",
        "print(np.sqrt(x))"
      ],
      "execution_count": 0,
      "outputs": [
        {
          "output_type": "stream",
          "text": [
            "[[ 1.          1.41421356]\n",
            " [ 1.73205081  2.        ]]\n"
          ],
          "name": "stdout"
        }
      ]
    },
    {
      "cell_type": "code",
      "metadata": {
        "id": "t0gbcWbTtftj",
        "colab_type": "code",
        "outputId": "9b1b4594-a115-46f3-dff9-22a954adbd48",
        "colab": {}
      },
      "source": [
        "# Elementwise power\n",
        "print(x**2)"
      ],
      "execution_count": 0,
      "outputs": [
        {
          "output_type": "stream",
          "text": [
            "[[  1.   4.]\n",
            " [  9.  16.]]\n"
          ],
          "name": "stdout"
        }
      ]
    },
    {
      "cell_type": "markdown",
      "metadata": {
        "id": "KR6OokeDtfto",
        "colab_type": "text"
      },
      "source": [
        "### Vector and Matrix Multiplication ###"
      ]
    },
    {
      "cell_type": "code",
      "metadata": {
        "id": "TB4fesTKtftp",
        "colab_type": "code",
        "outputId": "48f2d077-29d9-4a9b-870d-3fa6d6ffbdf3",
        "colab": {}
      },
      "source": [
        "# x and y which we defined earlier\n",
        "print(x)\n",
        "print(y)"
      ],
      "execution_count": 0,
      "outputs": [
        {
          "output_type": "stream",
          "text": [
            "[[ 1.  2.]\n",
            " [ 3.  4.]]\n",
            "[[ 5.  6.]\n",
            " [ 7.  8.]]\n"
          ],
          "name": "stdout"
        }
      ]
    },
    {
      "cell_type": "code",
      "metadata": {
        "id": "BIe9j399tftt",
        "colab_type": "code",
        "outputId": "4e593342-1c11-4c7a-b403-0ec173c51a2e",
        "colab": {}
      },
      "source": [
        "v = np.array([9,10])\n",
        "w = np.array([11, 12])\n",
        "print(v)\n",
        "print(w)"
      ],
      "execution_count": 0,
      "outputs": [
        {
          "output_type": "stream",
          "text": [
            "[ 9 10]\n",
            "[11 12]\n"
          ],
          "name": "stdout"
        }
      ]
    },
    {
      "cell_type": "code",
      "metadata": {
        "id": "m2SG_7D1tfty",
        "colab_type": "code",
        "outputId": "848bce30-16cb-4089-caa2-7601823528ec",
        "colab": {}
      },
      "source": [
        "# Inner product of vectors; both produce 219\n",
        "print(v.dot(w))\n",
        "print(np.dot(v, w))"
      ],
      "execution_count": 0,
      "outputs": [
        {
          "output_type": "stream",
          "text": [
            "219\n",
            "219\n"
          ],
          "name": "stdout"
        }
      ]
    },
    {
      "cell_type": "code",
      "metadata": {
        "id": "KvfWq8WDtft3",
        "colab_type": "code",
        "outputId": "28491505-2304-4a8d-c9cc-c04304819399",
        "colab": {}
      },
      "source": [
        "# Matrix / vector product; both produce the rank 1 array [29 67]\n",
        "print(x.dot(v))\n",
        "# X*v\n",
        "print(np.dot(x, v))"
      ],
      "execution_count": 0,
      "outputs": [
        {
          "output_type": "stream",
          "text": [
            "[ 29.  67.]\n",
            "[ 29.  67.]\n"
          ],
          "name": "stdout"
        }
      ]
    },
    {
      "cell_type": "code",
      "metadata": {
        "id": "VZihkKeatft9",
        "colab_type": "code",
        "outputId": "f1061b6b-6a38-4420-984a-73f7a4a809c4",
        "colab": {}
      },
      "source": [
        "# Matrix / matrix product; both produce the rank 2 array\n",
        "print(x.dot(y))\n",
        "print(np.dot(x, y))"
      ],
      "execution_count": 0,
      "outputs": [
        {
          "output_type": "stream",
          "text": [
            "[[ 19.  22.]\n",
            " [ 43.  50.]]\n",
            "[[ 19.  22.]\n",
            " [ 43.  50.]]\n"
          ],
          "name": "stdout"
        }
      ]
    },
    {
      "cell_type": "markdown",
      "metadata": {
        "id": "0CjuqSmbtfuC",
        "colab_type": "text"
      },
      "source": [
        "### Sum and Max ###\n",
        "Numpy provides many useful functions for performing computations on arrays; ones of the most useful are _sum_ and _max_."
      ]
    },
    {
      "cell_type": "code",
      "metadata": {
        "id": "PrvvvkxKtfuD",
        "colab_type": "code",
        "colab": {}
      },
      "source": [
        "x = np.array([[1,2],[3,4]])\n",
        "print(x)\n",
        "print(np.sum(x))  # Compute sum of all elements; prints \"10\"\n",
        "print(np.sum(x, axis=0))  # Compute sum of each column; prints \"[4 6]\"\n",
        "print(np.sum(x, axis=1))  # Compute sum of each row; prints \"[3 7]\""
      ],
      "execution_count": 0,
      "outputs": []
    },
    {
      "cell_type": "code",
      "metadata": {
        "id": "_dEL4-MotfuJ",
        "colab_type": "code",
        "colab": {}
      },
      "source": [
        "print(np.max(x))  # Compute max of all elements\n",
        "print(np.min(x, axis=0))  # Compute min of each column\n",
        "print(np.argmax(x, axis=0))  # Compute the position of the max value of each row "
      ],
      "execution_count": 0,
      "outputs": []
    },
    {
      "cell_type": "markdown",
      "metadata": {
        "id": "_ldAUthDtfuM",
        "colab_type": "text"
      },
      "source": [
        "Apart from computing mathematical functions using arrays, we frequently need to reshape or otherwise manipulate data in arrays. The simplest example of this type of operation is transposing a matrix; to transpose a matrix, simply use the **_T_** attribute of an array object:"
      ]
    },
    {
      "cell_type": "code",
      "metadata": {
        "id": "o3Eh3aUmtfuM",
        "colab_type": "code",
        "colab": {}
      },
      "source": [
        "x = np.array([[1,2], [3,4]])\n",
        "print(x)\n",
        "print(x.T)"
      ],
      "execution_count": 0,
      "outputs": []
    },
    {
      "cell_type": "code",
      "metadata": {
        "id": "5Oi_AjQftfuP",
        "colab_type": "code",
        "colab": {}
      },
      "source": [
        "# Note that taking the transpose of a rank 1 array does nothing:\n",
        "v = np.array([1,2,3])\n",
        "print(v)\n",
        "print(v.T)"
      ],
      "execution_count": 0,
      "outputs": []
    },
    {
      "cell_type": "markdown",
      "metadata": {
        "id": "MgbIgb5KtfuS",
        "colab_type": "text"
      },
      "source": [
        "### Broadcasting ###\n",
        "\n",
        "Broadcasting is a powerful mechanism that allows numpy to work with arrays of different shapes when performing arithmetic operations. Frequently we have a smaller array and a larger array, and we want to use the smaller array multiple times to perform some operation on the larger array.\n",
        "\n",
        "For example, suppose that we want to add a constant vector to each row of a matrix. We could do it like this:\n",
        "\n"
      ]
    },
    {
      "cell_type": "code",
      "metadata": {
        "id": "8JVe1h-LtfuV",
        "colab_type": "code",
        "colab": {}
      },
      "source": [
        "# We will add the vector v to each row of the matrix x,\n",
        "# storing the result in the matrix y\n",
        "x = np.array([[1,2,3], [4,5,6], [7,8,9], [10, 11, 12]])\n",
        "v = np.array([1, 0, 1])\n",
        "\n",
        "print(x)\n",
        "print(v)"
      ],
      "execution_count": 0,
      "outputs": []
    },
    {
      "cell_type": "code",
      "metadata": {
        "id": "v23efK-DtfuY",
        "colab_type": "code",
        "colab": {}
      },
      "source": [
        "y = x + v  # Add v to each row of x using broadcasting\n",
        "print(y)"
      ],
      "execution_count": 0,
      "outputs": []
    },
    {
      "cell_type": "markdown",
      "metadata": {
        "id": "zeYB-T_Ztfub",
        "colab_type": "text"
      },
      "source": [
        "Broadcasting two arrays together follows these rules:\n",
        "\n",
        "1. If the arrays do not have the same rank, prepend the shape of the lower rank array with 1s until both shapes have the same length.\n",
        "2. The two arrays are said to be compatible in a dimension if they have the same size in the dimension, or if one of the arrays has size 1 in that dimension.\n",
        "3. The arrays can be broadcast together if they are compatible in all dimensions.\n",
        "4. After broadcasting, each array behaves as if it had shape equal to the elementwise maximum of shapes of the two input arrays.\n",
        "5. In any dimension where one array had size 1 and the other array had size greater than 1, the first array behaves as if it were copied along that dimension\n",
        "\n",
        "You can read the [documentation](https://docs.scipy.org/doc/numpy/user/basics.broadcasting.html) for more information on broadcasting."
      ]
    },
    {
      "cell_type": "markdown",
      "metadata": {
        "id": "XRZi-s5xtfuc",
        "colab_type": "text"
      },
      "source": [
        "If you want to know more about numpy you should read the [documentation](https://docs.scipy.org/doc/numpy/reference/index.html)."
      ]
    },
    {
      "cell_type": "markdown",
      "metadata": {
        "id": "sZfCpT8rtfuc",
        "colab_type": "text"
      },
      "source": [
        "## Matplotlib ##\n",
        "\n",
        "[Matplotlib](http://matplotlib.org/) is a plotting library. In this section, we will give a brief introduction to the matplotlib.pyplot module."
      ]
    },
    {
      "cell_type": "code",
      "metadata": {
        "id": "vevZawjytfue",
        "colab_type": "code",
        "colab": {}
      },
      "source": [
        "import matplotlib.pyplot as plt"
      ],
      "execution_count": 0,
      "outputs": []
    },
    {
      "cell_type": "markdown",
      "metadata": {
        "id": "_cTe25Gktfuh",
        "colab_type": "text"
      },
      "source": [
        "Again, if you don't have matplotlib installed, do 'pip install matplotlib'.\n",
        "\n",
        "As matplotlib required numpy, you have to install numpy first if you haven't done so.\n",
        "\n",
        "If you have trouble with python version or numpy version, try virtualenv."
      ]
    },
    {
      "cell_type": "markdown",
      "metadata": {
        "id": "HcJZ0mWztfui",
        "colab_type": "text"
      },
      "source": [
        "### Plotting ###\n",
        "\n",
        "The most important function in matplotlib is _**plot**_, which allows you to plot 2D data. Here is a simple example:\n",
        "\n"
      ]
    },
    {
      "cell_type": "code",
      "metadata": {
        "id": "jsQMGRRktfui",
        "colab_type": "code",
        "outputId": "a8528169-94ad-4dc1-b003-5d3f4410f23a",
        "colab": {}
      },
      "source": [
        "# Compute the x and y coordinates for points on a sine curve\n",
        "x = np.arange(0, 3 * np.pi, 0.1)\n",
        "y = np.sin(x)\n",
        "\n",
        "# Plot the points using matplotlib\n",
        "plt.plot(x, y)\n",
        "plt.show()  # You must call plt.show() to make graphics appear."
      ],
      "execution_count": 0,
      "outputs": [
        {
          "output_type": "display_data",
          "data": {
            "image/png": "[encoded data removed]",
            "text/plain": [
              "<matplotlib.figure.Figure at 0x11415ac50>"
            ]
          },
          "metadata": {
            "tags": []
          }
        }
      ]
    },
    {
      "cell_type": "markdown",
      "metadata": {
        "id": "a9VRdfbmtfup",
        "colab_type": "text"
      },
      "source": [
        "We can also plot multiple lines at once, and add a title, legend, and axis labels:"
      ]
    },
    {
      "cell_type": "code",
      "metadata": {
        "id": "czLwF5A-tfus",
        "colab_type": "code",
        "outputId": "fa53eb84-1bf0-4c1d-9525-5479f6020eec",
        "colab": {}
      },
      "source": [
        "# Compute the x and y coordinates for points on sine and cosine curves\n",
        "x = np.arange(0, 3 * np.pi, 0.1)\n",
        "y_sin = np.sin(x)\n",
        "y_cos = np.cos(x)\n",
        "\n",
        "# Plot the points using matplotlib\n",
        "plt.plot(x, y_sin)\n",
        "plt.plot(x, y_cos)\n",
        "plt.xlabel('x axis label')\n",
        "plt.ylabel('y axis label')\n",
        "plt.title('Sine and Cosine')\n",
        "plt.legend(['Sine', 'Cosine'])\n",
        "plt.show()"
      ],
      "execution_count": 0,
      "outputs": [
        {
          "output_type": "display_data",
          "data": {
            "image/png": "[encoded data removed]",
            "text/plain": [
              "<matplotlib.figure.Figure at 0x114361f10>"
            ]
          },
          "metadata": {
            "tags": []
          }
        }
      ]
    },
    {
      "cell_type": "markdown",
      "metadata": {
        "id": "-EOcVsVitfuy",
        "colab_type": "text"
      },
      "source": [
        "You can read much more about the *plot* function [in the documentation](http://matplotlib.org/api/pyplot_api.html#matplotlib.pyplot.plot)."
      ]
    },
    {
      "cell_type": "markdown",
      "metadata": {
        "id": "R59xeJXWtfuz",
        "colab_type": "text"
      },
      "source": [
        "### Subplots ###\n",
        "\n",
        "You can plot different things in the same figure using the *subplot* function. Here is an example:"
      ]
    },
    {
      "cell_type": "code",
      "metadata": {
        "id": "AfTO8oR3tfu0",
        "colab_type": "code",
        "colab": {}
      },
      "source": [
        "# Compute the x and y coordinates for points on sine and cosine curves\n",
        "x = np.arange(0, 3 * np.pi, 0.1)\n",
        "y_sin = np.sin(x)\n",
        "y_cos = np.cos(x)\n",
        "\n",
        "# Set up a subplot grid that has height 2 and width 1,\n",
        "# and set the first such subplot as active.\n",
        "plt.subplot(2, 2, 1)\n",
        "\n",
        "# Make the first plot\n",
        "plt.plot(x, y_sin)\n",
        "plt.title('Sine')\n",
        "\n",
        "# Set the second subplot as active, and make the second plot.\n",
        "plt.subplot(2, 2, 4)\n",
        "plt.plot(x, y_cos)\n",
        "plt.title('Cosine')\n",
        "\n",
        "# Show the figure.\n",
        "plt.show()"
      ],
      "execution_count": 0,
      "outputs": []
    },
    {
      "cell_type": "markdown",
      "metadata": {
        "id": "3P9QNydatfu3",
        "colab_type": "text"
      },
      "source": [
        "You can read much more about the subplot function [in the documentation](http://matplotlib.org/api/pyplot_api.html#matplotlib.pyplot.subplot)."
      ]
    },
    {
      "cell_type": "markdown",
      "metadata": {
        "id": "AbYyNQBQtfu4",
        "colab_type": "text"
      },
      "source": [
        "## Pandas ##\n",
        "\n",
        "[Pandas](http://pandas.pydata.org/) is one of the most widely used Python libraries in data manipulation and data analysis. It provides easy ways for loading, joining, viewing summary, and performing calculation on data entry level.\n",
        "\n",
        "This part is only intended to make you know the existance of Pandas as the common libraries used in data science and machine learning. If you are interested in the full details, you should see [the 10min pandas introduction](https://pandas.pydata.org/pandas-docs/stable/10min.html#min)"
      ]
    },
    {
      "cell_type": "code",
      "metadata": {
        "id": "tohUFCr2tfvB",
        "colab_type": "code",
        "colab": {}
      },
      "source": [
        "import pandas as pd"
      ],
      "execution_count": 0,
      "outputs": []
    },
    {
      "cell_type": "markdown",
      "metadata": {
        "id": "Y-e7NjT9tfvI",
        "colab_type": "text"
      },
      "source": [
        "As usual, install pandas if you haven't done so."
      ]
    },
    {
      "cell_type": "markdown",
      "metadata": {
        "id": "t8il0MFStfvL",
        "colab_type": "text"
      },
      "source": [
        "### Series ###\n",
        "\n",
        "Series is a one-dimensional labeled array capable of holding any data type (integers, strings, floating point numbers, Python objects, etc.). The axis labels are collectively referred to as the index. The basic method to create a Series is to call:"
      ]
    },
    {
      "cell_type": "code",
      "metadata": {
        "id": "3SWW8YZXtfvM",
        "colab_type": "code",
        "colab": {}
      },
      "source": [
        "pd.Series(np.random.randn(5))"
      ],
      "execution_count": 0,
      "outputs": []
    },
    {
      "cell_type": "markdown",
      "metadata": {
        "id": "f5ijKwBKtfvO",
        "colab_type": "text"
      },
      "source": [
        "You can also assign index to pandas series by doing:"
      ]
    },
    {
      "cell_type": "code",
      "metadata": {
        "id": "cW_l7JqjtfvP",
        "colab_type": "code",
        "collapsed": true,
        "colab": {}
      },
      "source": [
        "s = pd.Series(np.random.randn(5), index=['a', 'b', 'c', 'd', 'e'])"
      ],
      "execution_count": 0,
      "outputs": []
    },
    {
      "cell_type": "code",
      "metadata": {
        "id": "Xuyl1OlhtfvT",
        "colab_type": "code",
        "colab": {}
      },
      "source": [
        "s"
      ],
      "execution_count": 0,
      "outputs": []
    },
    {
      "cell_type": "code",
      "metadata": {
        "id": "l7u4F3vztfvY",
        "colab_type": "code",
        "colab": {}
      },
      "source": [
        "s.index"
      ],
      "execution_count": 0,
      "outputs": []
    },
    {
      "cell_type": "markdown",
      "metadata": {
        "id": "icul9pHhtfvd",
        "colab_type": "text"
      },
      "source": [
        "### Dataframe ###\n",
        "\n",
        "DataFrame is a 2-dimensional labeled data structure with columns of potentially different types. You can think of it like a spreadsheet or SQL table, or a dict of Series objects. It is generally the most commonly used pandas object.\n",
        "\n",
        "You can create a DataFrame by passing a numpy array."
      ]
    },
    {
      "cell_type": "code",
      "metadata": {
        "id": "nzmbFR0ztfve",
        "colab_type": "code",
        "colab": {}
      },
      "source": [
        "d = {'one' : [1., 2., 3., 4.],\n",
        "     'two' : [4., 3., 2., 1.]}\n",
        "print(d)"
      ],
      "execution_count": 0,
      "outputs": []
    },
    {
      "cell_type": "code",
      "metadata": {
        "id": "Qw7oUHgGtfvh",
        "colab_type": "code",
        "colab": {}
      },
      "source": [
        "pd.DataFrame(d)"
      ],
      "execution_count": 0,
      "outputs": []
    },
    {
      "cell_type": "markdown",
      "metadata": {
        "id": "44vbP-Jctfvj",
        "colab_type": "text"
      },
      "source": [
        "Create Dataframe with index:"
      ]
    },
    {
      "cell_type": "code",
      "metadata": {
        "id": "x0v2WFvCtfvj",
        "colab_type": "code",
        "colab": {}
      },
      "source": [
        "d = pd.DataFrame(d, index=['a', 'b', 'c', 'd'])\n",
        "d"
      ],
      "execution_count": 0,
      "outputs": []
    },
    {
      "cell_type": "markdown",
      "metadata": {
        "id": "GZ91NyT-tfvq",
        "colab_type": "text"
      },
      "source": [
        "### Viewing Data ###"
      ]
    },
    {
      "cell_type": "code",
      "metadata": {
        "id": "4X2M0W_vtfvq",
        "colab_type": "code",
        "colab": {}
      },
      "source": [
        "d.head(2)"
      ],
      "execution_count": 0,
      "outputs": []
    },
    {
      "cell_type": "code",
      "metadata": {
        "id": "pDbg--e2tfvv",
        "colab_type": "code",
        "colab": {}
      },
      "source": [
        "d.tail(2)"
      ],
      "execution_count": 0,
      "outputs": []
    },
    {
      "cell_type": "markdown",
      "metadata": {
        "id": "jXIDVdLOtfvx",
        "colab_type": "text"
      },
      "source": [
        "### View Summary ###"
      ]
    },
    {
      "cell_type": "code",
      "metadata": {
        "id": "SUnCrZa4tfvz",
        "colab_type": "code",
        "colab": {}
      },
      "source": [
        "d.describe()"
      ],
      "execution_count": 0,
      "outputs": []
    },
    {
      "cell_type": "markdown",
      "metadata": {
        "id": "_Vm5Qypttfv2",
        "colab_type": "text"
      },
      "source": [
        "### Column Selection, Addition, Deletion ###"
      ]
    },
    {
      "cell_type": "code",
      "metadata": {
        "id": "40dI9woutfv2",
        "colab_type": "code",
        "colab": {}
      },
      "source": [
        "d['one']"
      ],
      "execution_count": 0,
      "outputs": []
    },
    {
      "cell_type": "code",
      "metadata": {
        "id": "O_KyS0wytfv7",
        "colab_type": "code",
        "colab": {}
      },
      "source": [
        "d['foo'] = 'bar'\n",
        "d"
      ],
      "execution_count": 0,
      "outputs": []
    },
    {
      "cell_type": "code",
      "metadata": {
        "id": "0VRCA-98tfv9",
        "colab_type": "code",
        "colab": {}
      },
      "source": [
        "del d['one']\n",
        "d"
      ],
      "execution_count": 0,
      "outputs": []
    },
    {
      "cell_type": "code",
      "metadata": {
        "id": "HpQYKjpKtfwB",
        "colab_type": "code",
        "colab": {}
      },
      "source": [
        "d['two_trunc'] = d['two'][:2]\n",
        "d"
      ],
      "execution_count": 0,
      "outputs": []
    },
    {
      "cell_type": "markdown",
      "metadata": {
        "id": "Zu84rMRJtfwG",
        "colab_type": "text"
      },
      "source": [
        "This should give you an idea of what Pandas can do and how important it is in working with data.\n",
        "For more information, see [the documentation](https://pandas.pydata.org/pandas-docs/stable/tutorials.html#)."
      ]
    },
    {
      "cell_type": "code",
      "metadata": {
        "id": "KfXTldlotfwH",
        "colab_type": "code",
        "collapsed": true,
        "colab": {}
      },
      "source": [
        ""
      ],
      "execution_count": 0,
      "outputs": []
    }
  ]
}